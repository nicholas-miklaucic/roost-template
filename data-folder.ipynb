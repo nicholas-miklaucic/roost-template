{
 "cells": [
  {
   "cell_type": "code",
   "execution_count": 50,
   "metadata": {},
   "outputs": [],
   "source": [
    "import numpy as np\n",
    "import pandas as pd\n",
    "import seaborn as sns"
   ]
  },
  {
   "cell_type": "code",
   "execution_count": null,
   "metadata": {},
   "outputs": [
    {
     "data": {
      "text/html": [
       "<div>\n",
       "<style scoped>\n",
       "    .dataframe tbody tr th:only-of-type {\n",
       "        vertical-align: middle;\n",
       "    }\n",
       "\n",
       "    .dataframe tbody tr th {\n",
       "        vertical-align: top;\n",
       "    }\n",
       "\n",
       "    .dataframe thead th {\n",
       "        text-align: right;\n",
       "    }\n",
       "</style>\n",
       "<table border=\"1\" class=\"dataframe\">\n",
       "  <thead>\n",
       "    <tr style=\"text-align: right;\">\n",
       "      <th></th>\n",
       "      <th>struct</th>\n",
       "      <th>strfgp</th>\n",
       "      <th>comp</th>\n",
       "      <th>full_formula</th>\n",
       "      <th>total_atoms</th>\n",
       "      <th>ratio_class</th>\n",
       "    </tr>\n",
       "    <tr>\n",
       "      <th>id</th>\n",
       "      <th></th>\n",
       "      <th></th>\n",
       "      <th></th>\n",
       "      <th></th>\n",
       "      <th></th>\n",
       "      <th></th>\n",
       "    </tr>\n",
       "  </thead>\n",
       "  <tbody>\n",
       "    <tr>\n",
       "      <th>mp-11806</th>\n",
       "      <td>[[3.94133085 2.78694177 6.82658528] Li, [2.627...</td>\n",
       "      <td>[0.0, 0.0, 0.0, 0.0, 0.0, 0.0, 0.0, 0.0, 0.0, ...</td>\n",
       "      <td>(Li, Mg, Sn, Pt)</td>\n",
       "      <td>Li1Mg1Sn1Pt1</td>\n",
       "      <td>4</td>\n",
       "      <td>1:1:1:1</td>\n",
       "    </tr>\n",
       "    <tr>\n",
       "      <th>mp-2731</th>\n",
       "      <td>[[0. 0. 0.] Ti, [0.46429621 2.59081074 1.17429...</td>\n",
       "      <td>[0.0, 0.0, 0.0, 0.0, 0.0, 0.0, 0.0, 0.0, 0.0, ...</td>\n",
       "      <td>(Ti, Ga)</td>\n",
       "      <td>Ti1Ga3</td>\n",
       "      <td>4</td>\n",
       "      <td>3:1</td>\n",
       "    </tr>\n",
       "    <tr>\n",
       "      <th>mp-23125</th>\n",
       "      <td>[[2.82354684 6.30895561 0.60204687] K, [0.9019...</td>\n",
       "      <td>[0.09768580650322328, 0.08917453294983373, 0.0...</td>\n",
       "      <td>(K, Na, Fe, Cl)</td>\n",
       "      <td>K6Na2Fe2Cl12</td>\n",
       "      <td>22</td>\n",
       "      <td>6:3:1:1</td>\n",
       "    </tr>\n",
       "    <tr>\n",
       "      <th>mp-3147</th>\n",
       "      <td>[[0. 0. 0.] Er, [ 2.05503393  2.38270683 -0.53...</td>\n",
       "      <td>[0.06701777900545354, 0.08207968112898413, 0.0...</td>\n",
       "      <td>(Er, Si, Au)</td>\n",
       "      <td>Er1Si2Au2</td>\n",
       "      <td>5</td>\n",
       "      <td>2:2:1</td>\n",
       "    </tr>\n",
       "    <tr>\n",
       "      <th>mp-30805</th>\n",
       "      <td>[[3.70598082 4.34966549 2.89168198] Sr, [ 2.44...</td>\n",
       "      <td>[0.0765385280247497, 0.13616708472564884, 0.0,...</td>\n",
       "      <td>(Sr, Ni, Sn)</td>\n",
       "      <td>Sr1Ni1Sn3</td>\n",
       "      <td>5</td>\n",
       "      <td>3:1:1</td>\n",
       "    </tr>\n",
       "    <tr>\n",
       "      <th>...</th>\n",
       "      <td>...</td>\n",
       "      <td>...</td>\n",
       "      <td>...</td>\n",
       "      <td>...</td>\n",
       "      <td>...</td>\n",
       "      <td>...</td>\n",
       "    </tr>\n",
       "    <tr>\n",
       "      <th>mp-1106150</th>\n",
       "      <td>[[0. 0. 0.] Ce, [0.         0.         3.21828...</td>\n",
       "      <td>[0.0, 0.0, 0.0, 0.0, 0.0, 0.0, 0.0, 0.0, 0.000...</td>\n",
       "      <td>(Ce, Mn, Cu, O)</td>\n",
       "      <td>Ce1Mn4Cu3O12</td>\n",
       "      <td>20</td>\n",
       "      <td>12:4:3:1</td>\n",
       "    </tr>\n",
       "    <tr>\n",
       "      <th>mp-4972</th>\n",
       "      <td>[[2.64673198 1.87152231 4.58427529] Lu, [0. 0....</td>\n",
       "      <td>[0.0, 0.0, 0.0, 0.0, 0.0, 0.0, 0.0, 0.0, 0.0, ...</td>\n",
       "      <td>(Lu, In, Cu)</td>\n",
       "      <td>Lu1In1Cu2</td>\n",
       "      <td>4</td>\n",
       "      <td>2:1:1</td>\n",
       "    </tr>\n",
       "    <tr>\n",
       "      <th>mp-6686</th>\n",
       "      <td>[[1.78232712 1.26029559 3.08708113] K, [5.3469...</td>\n",
       "      <td>[0.03692666619442267, 0.030150496692805555, 0....</td>\n",
       "      <td>(K, Na, In, F)</td>\n",
       "      <td>K2Na1In1F6</td>\n",
       "      <td>10</td>\n",
       "      <td>6:2:1:1</td>\n",
       "    </tr>\n",
       "    <tr>\n",
       "      <th>mp-6628</th>\n",
       "      <td>[[2.4732902  2.4867965  2.45992864] Cs, [5.444...</td>\n",
       "      <td>[0.3690030871841858, 0.336915740166443, 0.0, 0...</td>\n",
       "      <td>(Cs, Cd, N, O)</td>\n",
       "      <td>Cs1Cd1N3O6</td>\n",
       "      <td>11</td>\n",
       "      <td>6:3:1:1</td>\n",
       "    </tr>\n",
       "    <tr>\n",
       "      <th>mp-19227</th>\n",
       "      <td>[[0.        0.        5.6263423] Y, [0.       ...</td>\n",
       "      <td>[0.08789398726111747, 0.10764771012421129, 0.0...</td>\n",
       "      <td>(Y, Mn, O)</td>\n",
       "      <td>Y2Mn2O6</td>\n",
       "      <td>10</td>\n",
       "      <td>3:1:1</td>\n",
       "    </tr>\n",
       "  </tbody>\n",
       "</table>\n",
       "<p>174 rows × 6 columns</p>\n",
       "</div>"
      ],
      "text/plain": [
       "                                                       struct  \\\n",
       "id                                                              \n",
       "mp-11806    [[3.94133085 2.78694177 6.82658528] Li, [2.627...   \n",
       "mp-2731     [[0. 0. 0.] Ti, [0.46429621 2.59081074 1.17429...   \n",
       "mp-23125    [[2.82354684 6.30895561 0.60204687] K, [0.9019...   \n",
       "mp-3147     [[0. 0. 0.] Er, [ 2.05503393  2.38270683 -0.53...   \n",
       "mp-30805    [[3.70598082 4.34966549 2.89168198] Sr, [ 2.44...   \n",
       "...                                                       ...   \n",
       "mp-1106150  [[0. 0. 0.] Ce, [0.         0.         3.21828...   \n",
       "mp-4972     [[2.64673198 1.87152231 4.58427529] Lu, [0. 0....   \n",
       "mp-6686     [[1.78232712 1.26029559 3.08708113] K, [5.3469...   \n",
       "mp-6628     [[2.4732902  2.4867965  2.45992864] Cs, [5.444...   \n",
       "mp-19227    [[0.        0.        5.6263423] Y, [0.       ...   \n",
       "\n",
       "                                                       strfgp  \\\n",
       "id                                                              \n",
       "mp-11806    [0.0, 0.0, 0.0, 0.0, 0.0, 0.0, 0.0, 0.0, 0.0, ...   \n",
       "mp-2731     [0.0, 0.0, 0.0, 0.0, 0.0, 0.0, 0.0, 0.0, 0.0, ...   \n",
       "mp-23125    [0.09768580650322328, 0.08917453294983373, 0.0...   \n",
       "mp-3147     [0.06701777900545354, 0.08207968112898413, 0.0...   \n",
       "mp-30805    [0.0765385280247497, 0.13616708472564884, 0.0,...   \n",
       "...                                                       ...   \n",
       "mp-1106150  [0.0, 0.0, 0.0, 0.0, 0.0, 0.0, 0.0, 0.0, 0.000...   \n",
       "mp-4972     [0.0, 0.0, 0.0, 0.0, 0.0, 0.0, 0.0, 0.0, 0.0, ...   \n",
       "mp-6686     [0.03692666619442267, 0.030150496692805555, 0....   \n",
       "mp-6628     [0.3690030871841858, 0.336915740166443, 0.0, 0...   \n",
       "mp-19227    [0.08789398726111747, 0.10764771012421129, 0.0...   \n",
       "\n",
       "                        comp  full_formula  total_atoms ratio_class  \n",
       "id                                                                   \n",
       "mp-11806    (Li, Mg, Sn, Pt)  Li1Mg1Sn1Pt1            4     1:1:1:1  \n",
       "mp-2731             (Ti, Ga)        Ti1Ga3            4         3:1  \n",
       "mp-23125     (K, Na, Fe, Cl)  K6Na2Fe2Cl12           22     6:3:1:1  \n",
       "mp-3147         (Er, Si, Au)     Er1Si2Au2            5       2:2:1  \n",
       "mp-30805        (Sr, Ni, Sn)     Sr1Ni1Sn3            5       3:1:1  \n",
       "...                      ...           ...          ...         ...  \n",
       "mp-1106150   (Ce, Mn, Cu, O)  Ce1Mn4Cu3O12           20    12:4:3:1  \n",
       "mp-4972         (Lu, In, Cu)     Lu1In1Cu2            4       2:1:1  \n",
       "mp-6686       (K, Na, In, F)    K2Na1In1F6           10     6:2:1:1  \n",
       "mp-6628       (Cs, Cd, N, O)    Cs1Cd1N3O6           11     6:3:1:1  \n",
       "mp-19227          (Y, Mn, O)       Y2Mn2O6           10       3:1:1  \n",
       "\n",
       "[174 rows x 6 columns]"
      ]
     },
     "execution_count": 32,
     "metadata": {},
     "output_type": "execute_result"
    }
   ],
   "source": [
    "# df = pd.read_pickle('https://github.com/Minoru938/CSPML/raw/refs/heads/master/CSPML_latest_codes/data_set/MP_stable_20211107.pd.xz')\n",
    "df = pd.read_feather('data/cspbench/data.feather')\n",
    "df"
   ]
  },
  {
   "cell_type": "code",
   "execution_count": 33,
   "metadata": {},
   "outputs": [
    {
     "data": {
      "text/plain": [
       "id\n",
       "mp-11806      [0.0, 0.0, 0.0, 0.0, 0.0, 0.0, 0.0, 0.0, 0.0, ...\n",
       "mp-2731       [0.0, 0.0, 0.0, 0.0, 0.0, 0.0, 0.0, 0.0, 0.0, ...\n",
       "mp-23125      [0.09768580650322328, 0.08917453294983373, 0.0...\n",
       "mp-3147       [0.06701777900545354, 0.08207968112898413, 0.0...\n",
       "mp-30805      [0.0765385280247497, 0.13616708472564884, 0.0,...\n",
       "                                    ...                        \n",
       "mp-1106150    [0.0, 0.0, 0.0, 0.0, 0.0, 0.0, 0.0, 0.0, 0.000...\n",
       "mp-4972       [0.0, 0.0, 0.0, 0.0, 0.0, 0.0, 0.0, 0.0, 0.0, ...\n",
       "mp-6686       [0.03692666619442267, 0.030150496692805555, 0....\n",
       "mp-6628       [0.3690030871841858, 0.336915740166443, 0.0, 0...\n",
       "mp-19227      [0.08789398726111747, 0.10764771012421129, 0.0...\n",
       "Name: strfgp, Length: 174, dtype: object"
      ]
     },
     "execution_count": 33,
     "metadata": {},
     "output_type": "execute_result"
    }
   ],
   "source": [
    "df['strfgp']"
   ]
  },
  {
   "cell_type": "code",
   "execution_count": 34,
   "metadata": {},
   "outputs": [
    {
     "data": {
      "text/plain": [
       "ratio_class\n",
       "6:2:1:1     18\n",
       "2:1         18\n",
       "2:1:1       16\n",
       "1:1         13\n",
       "3:1         12\n",
       "1:1:1:1     11\n",
       "4:1:1        8\n",
       "1:1:1        7\n",
       "4:1          6\n",
       "3:1:1        6\n",
       "2:2:1        5\n",
       "2:2:1:1      5\n",
       "12:4:3:1     5\n",
       "12:4:1       3\n",
       "4:3:3        3\n",
       "5:3:1        2\n",
       "5:2:1        2\n",
       "4:3          2\n",
       "4:2:1:1      2\n",
       "5:2:1:1      2\n",
       "Name: count, dtype: int64"
      ]
     },
     "execution_count": 34,
     "metadata": {},
     "output_type": "execute_result"
    }
   ],
   "source": [
    "common_ratios = df.query('total_atoms <= 20 and ratio_class != \"others\"')['ratio_class'].value_counts().head(20)\n",
    "common_ratios"
   ]
  },
  {
   "cell_type": "code",
   "execution_count": 42,
   "metadata": {},
   "outputs": [
    {
     "name": "stdout",
     "output_type": "stream",
     "text": [
      "0.00% 2.22% 2.22%\n"
     ]
    }
   ],
   "source": [
    "df_ratio = df.query('ratio_class == \"2:1\"')\n",
    "subset = df_ratio.sample(10, random_state=43)\n",
    "\n",
    "Y = np.array(list(subset['strfgp']))\n",
    "\n",
    "from scipy.spatial.distance import pdist, squareform\n",
    "\n",
    "dists = pdist(Y, 'euclidean')\n",
    "print(' '.join([f'{np.mean(dists < tau):.2%}' for tau in [0.1, 0.2, 0.3]]))\n",
    "# sns.heatmap(squareform(dists), cmap='rho_heatmap_r')"
   ]
  },
  {
   "cell_type": "code",
   "execution_count": 46,
   "metadata": {},
   "outputs": [
    {
     "name": "stderr",
     "output_type": "stream",
     "text": [
      "100%|██████████| 20/20 [00:00<00:00, 365.90it/s]\n"
     ]
    }
   ],
   "source": [
    "from tqdm import tqdm\n",
    "rng = np.random.default_rng(1234)\n",
    "pdist_batch_size = 0\n",
    "\n",
    "dataset = []\n",
    "for ratio in tqdm(common_ratios.index[::-1]):\n",
    "    df_ratio: pd.DataFrame = df.query('ratio_class == @ratio').reset_index()\n",
    "    \n",
    "    if pdist_batch_size == 0 or pdist_batch_size >= len(df_ratio.index):\n",
    "        groups = [np.arange(len(df_ratio.index))]\n",
    "    else:\n",
    "        groups = np.array_split(rng.permutation(df_ratio.shape[0]), pdist_batch_size)\n",
    "    for group in groups:\n",
    "        subset = df_ratio.iloc[group]\n",
    "        Y = np.array(list(subset['strfgp']))\n",
    "        dists = pdist(Y, 'euclidean')\n",
    "        dm = squareform(dists)\n",
    "        ii, jj = np.triu_indices_from(dm, k=1)\n",
    "        cols = ['id', 'full_formula', 'space_group']\n",
    "        data_dict = {'ratio': [ratio for _ in ii], 'dist': dm[(ii, jj)]}\n",
    "        for inds, suff in zip((ii, jj), ('_1', '_2')):\n",
    "            for col in cols:\n",
    "                if col in subset.columns:\n",
    "                    data_dict[col + suff] = subset.iloc[inds][col].values\n",
    "\n",
    "        dataset.append(pd.DataFrame(data_dict))\n",
    "\n",
    "data_df = pd.concat(dataset).reset_index(drop=True)\n",
    "for col in ('ratio', 'id_1', 'full_formula_1', 'space_group_1', 'id_2', 'full_formula_2', 'space_group_2'):\n",
    "    if col in data_df.columns:\n",
    "        data_df[col] = data_df[col].astype('category')"
   ]
  },
  {
   "cell_type": "code",
   "execution_count": null,
   "metadata": {},
   "outputs": [],
   "source": [
    "data_df"
   ]
  },
  {
   "cell_type": "code",
   "execution_count": 49,
   "metadata": {},
   "outputs": [
    {
     "data": {
      "text/plain": [
       "<seaborn.axisgrid.FacetGrid at 0x7e7889d399f0>"
      ]
     },
     "execution_count": 49,
     "metadata": {},
     "output_type": "execute_result"
    },
    {
     "data": {
      "image/png": "[encoded data removed]",
      "text/plain": [
       "<Figure size 500x500 with 1 Axes>"
      ]
     },
     "metadata": {},
     "output_type": "display_data"
    }
   ],
   "source": [
    "import seaborn as sns\n",
    "sns.displot(data_df.sample(100), x='dist')"
   ]
  },
  {
   "cell_type": "code",
   "execution_count": null,
   "metadata": {},
   "outputs": [],
   "source": [
    "data_df.query('dist < 0.01')"
   ]
  },
  {
   "cell_type": "code",
   "execution_count": null,
   "metadata": {},
   "outputs": [],
   "source": [
    "data_df.to_feather('pairs_data.feather')"
   ]
  },
  {
   "cell_type": "code",
   "execution_count": null,
   "metadata": {},
   "outputs": [],
   "source": []
  }
 ],
 "metadata": {
  "kernelspec": {
   "display_name": "baysic",
   "language": "python",
   "name": "python3"
  },
  "language_info": {
   "codemirror_mode": {
    "name": "ipython",
    "version": 3
   },
   "file_extension": ".py",
   "mimetype": "text/x-python",
   "name": "python",
   "nbconvert_exporter": "python",
   "pygments_lexer": "ipython3",
   "version": "3.10.13"
  }
 },
 "nbformat": 4,
 "nbformat_minor": 2
}
