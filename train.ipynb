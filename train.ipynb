{
 "cells": [
  {
   "cell_type": "code",
   "execution_count": 1,
   "metadata": {},
   "outputs": [],
   "source": [
    "import numpy as np\n",
    "import pandas as pd\n",
    "import matplotlib.pyplot as plt\n",
    "import seaborn as sns\n",
    "import rho_plus as rp\n",
    "\n",
    "theme, cs = rp.mpl_setup(False)"
   ]
  },
  {
   "cell_type": "code",
   "execution_count": 2,
   "metadata": {},
   "outputs": [],
   "source": [
    "#  -U git+https://github.com/CompRhys/aviary.git"
   ]
  },
  {
   "cell_type": "code",
   "execution_count": 3,
   "metadata": {},
   "outputs": [
    {
     "data": {
      "text/html": [
       "<div>\n",
       "<style scoped>\n",
       "    .dataframe tbody tr th:only-of-type {\n",
       "        vertical-align: middle;\n",
       "    }\n",
       "\n",
       "    .dataframe tbody tr th {\n",
       "        vertical-align: top;\n",
       "    }\n",
       "\n",
       "    .dataframe thead th {\n",
       "        text-align: right;\n",
       "    }\n",
       "</style>\n",
       "<table border=\"1\" class=\"dataframe\">\n",
       "  <thead>\n",
       "    <tr style=\"text-align: right;\">\n",
       "      <th></th>\n",
       "      <th>ratio</th>\n",
       "      <th>dist</th>\n",
       "      <th>id_1</th>\n",
       "      <th>pretty_formula_1</th>\n",
       "      <th>space_group_1</th>\n",
       "      <th>id_2</th>\n",
       "      <th>pretty_formula_2</th>\n",
       "      <th>space_group_2</th>\n",
       "    </tr>\n",
       "  </thead>\n",
       "  <tbody>\n",
       "    <tr>\n",
       "      <th>0</th>\n",
       "      <td>5:3</td>\n",
       "      <td>0.075454</td>\n",
       "      <td>mp-31172</td>\n",
       "      <td>Ca5Ag3</td>\n",
       "      <td>I4/mcm</td>\n",
       "      <td>mp-571212</td>\n",
       "      <td>Yb5Ag3</td>\n",
       "      <td>I4/mcm</td>\n",
       "    </tr>\n",
       "    <tr>\n",
       "      <th>1</th>\n",
       "      <td>5:3</td>\n",
       "      <td>2.008706</td>\n",
       "      <td>mp-31172</td>\n",
       "      <td>Ca5Ag3</td>\n",
       "      <td>I4/mcm</td>\n",
       "      <td>mp-1501</td>\n",
       "      <td>Al3Pt5</td>\n",
       "      <td>Pbam</td>\n",
       "    </tr>\n",
       "    <tr>\n",
       "      <th>2</th>\n",
       "      <td>5:3</td>\n",
       "      <td>2.300419</td>\n",
       "      <td>mp-31172</td>\n",
       "      <td>Ca5Ag3</td>\n",
       "      <td>I4/mcm</td>\n",
       "      <td>mp-16514</td>\n",
       "      <td>Al3Ni5</td>\n",
       "      <td>Cmmm</td>\n",
       "    </tr>\n",
       "    <tr>\n",
       "      <th>3</th>\n",
       "      <td>5:3</td>\n",
       "      <td>1.506156</td>\n",
       "      <td>mp-31172</td>\n",
       "      <td>Ca5Ag3</td>\n",
       "      <td>I4/mcm</td>\n",
       "      <td>mp-10047</td>\n",
       "      <td>Ca5As3</td>\n",
       "      <td>P6_3/mcm</td>\n",
       "    </tr>\n",
       "    <tr>\n",
       "      <th>4</th>\n",
       "      <td>5:3</td>\n",
       "      <td>1.428876</td>\n",
       "      <td>mp-31172</td>\n",
       "      <td>Ca5Ag3</td>\n",
       "      <td>I4/mcm</td>\n",
       "      <td>mp-1106024</td>\n",
       "      <td>Eu5As3</td>\n",
       "      <td>P6_3/mcm</td>\n",
       "    </tr>\n",
       "    <tr>\n",
       "      <th>...</th>\n",
       "      <td>...</td>\n",
       "      <td>...</td>\n",
       "      <td>...</td>\n",
       "      <td>...</td>\n",
       "      <td>...</td>\n",
       "      <td>...</td>\n",
       "      <td>...</td>\n",
       "      <td>...</td>\n",
       "    </tr>\n",
       "    <tr>\n",
       "      <th>15063717</th>\n",
       "      <td>2:1:1</td>\n",
       "      <td>0.061459</td>\n",
       "      <td>mp-999137</td>\n",
       "      <td>SmTlSe2</td>\n",
       "      <td>R-3m</td>\n",
       "      <td>mp-1065514</td>\n",
       "      <td>YTlTe2</td>\n",
       "      <td>R-3m</td>\n",
       "    </tr>\n",
       "    <tr>\n",
       "      <th>15063718</th>\n",
       "      <td>2:1:1</td>\n",
       "      <td>2.728159</td>\n",
       "      <td>mp-999137</td>\n",
       "      <td>SmTlSe2</td>\n",
       "      <td>R-3m</td>\n",
       "      <td>mp-1187870</td>\n",
       "      <td>YTmTl2</td>\n",
       "      <td>Fm-3m</td>\n",
       "    </tr>\n",
       "    <tr>\n",
       "      <th>15063719</th>\n",
       "      <td>2:1:1</td>\n",
       "      <td>0.122831</td>\n",
       "      <td>mp-1008561</td>\n",
       "      <td>TmTlTe2</td>\n",
       "      <td>R-3m</td>\n",
       "      <td>mp-1065514</td>\n",
       "      <td>YTlTe2</td>\n",
       "      <td>R-3m</td>\n",
       "    </tr>\n",
       "    <tr>\n",
       "      <th>15063720</th>\n",
       "      <td>2:1:1</td>\n",
       "      <td>2.711075</td>\n",
       "      <td>mp-1008561</td>\n",
       "      <td>TmTlTe2</td>\n",
       "      <td>R-3m</td>\n",
       "      <td>mp-1187870</td>\n",
       "      <td>YTmTl2</td>\n",
       "      <td>Fm-3m</td>\n",
       "    </tr>\n",
       "    <tr>\n",
       "      <th>15063721</th>\n",
       "      <td>2:1:1</td>\n",
       "      <td>2.740238</td>\n",
       "      <td>mp-1065514</td>\n",
       "      <td>YTlTe2</td>\n",
       "      <td>R-3m</td>\n",
       "      <td>mp-1187870</td>\n",
       "      <td>YTmTl2</td>\n",
       "      <td>Fm-3m</td>\n",
       "    </tr>\n",
       "  </tbody>\n",
       "</table>\n",
       "<p>15063722 rows × 8 columns</p>\n",
       "</div>"
      ],
      "text/plain": [
       "          ratio      dist        id_1 pretty_formula_1 space_group_1  \\\n",
       "0           5:3  0.075454    mp-31172           Ca5Ag3        I4/mcm   \n",
       "1           5:3  2.008706    mp-31172           Ca5Ag3        I4/mcm   \n",
       "2           5:3  2.300419    mp-31172           Ca5Ag3        I4/mcm   \n",
       "3           5:3  1.506156    mp-31172           Ca5Ag3        I4/mcm   \n",
       "4           5:3  1.428876    mp-31172           Ca5Ag3        I4/mcm   \n",
       "...         ...       ...         ...              ...           ...   \n",
       "15063717  2:1:1  0.061459   mp-999137          SmTlSe2          R-3m   \n",
       "15063718  2:1:1  2.728159   mp-999137          SmTlSe2          R-3m   \n",
       "15063719  2:1:1  0.122831  mp-1008561          TmTlTe2          R-3m   \n",
       "15063720  2:1:1  2.711075  mp-1008561          TmTlTe2          R-3m   \n",
       "15063721  2:1:1  2.740238  mp-1065514           YTlTe2          R-3m   \n",
       "\n",
       "                id_2 pretty_formula_2 space_group_2  \n",
       "0          mp-571212           Yb5Ag3        I4/mcm  \n",
       "1            mp-1501           Al3Pt5          Pbam  \n",
       "2           mp-16514           Al3Ni5          Cmmm  \n",
       "3           mp-10047           Ca5As3      P6_3/mcm  \n",
       "4         mp-1106024           Eu5As3      P6_3/mcm  \n",
       "...              ...              ...           ...  \n",
       "15063717  mp-1065514           YTlTe2          R-3m  \n",
       "15063718  mp-1187870           YTmTl2         Fm-3m  \n",
       "15063719  mp-1065514           YTlTe2          R-3m  \n",
       "15063720  mp-1187870           YTmTl2         Fm-3m  \n",
       "15063721  mp-1187870           YTmTl2         Fm-3m  \n",
       "\n",
       "[15063722 rows x 8 columns]"
      ]
     },
     "execution_count": 3,
     "metadata": {},
     "output_type": "execute_result"
    }
   ],
   "source": [
    "df = pd.read_feather('pairs_data.feather')\n",
    "df"
   ]
  },
  {
   "cell_type": "code",
   "execution_count": 4,
   "metadata": {},
   "outputs": [
    {
     "name": "stdout",
     "output_type": "stream",
     "text": [
      "[(48, 1), (48, 112), (146,), (146,), (48,)]\n",
      "torch.Size([16, 64])\n"
     ]
    },
    {
     "data": {
      "text/plain": [
       "tensor([[ 0.0504, -0.0275,  0.0036,  ...,  0.0029,  0.0169, -0.0143],\n",
       "        [ 0.0412, -0.0212,  0.0079,  ..., -0.0001,  0.0131, -0.0096],\n",
       "        [ 0.0494, -0.0290,  0.0109,  ..., -0.0036,  0.0195, -0.0189],\n",
       "        ...,\n",
       "        [ 0.0435, -0.0354,  0.0038,  ..., -0.0018,  0.0208, -0.0092],\n",
       "        [ 0.0464, -0.0308,  0.0035,  ..., -0.0044,  0.0219, -0.0105],\n",
       "        [ 0.0464, -0.0250,  0.0073,  ..., -0.0126,  0.0191, -0.0093]],\n",
       "       device='cuda:0', grad_fn=<MeanBackward1>)"
      ]
     },
     "execution_count": 4,
     "metadata": {},
     "output_type": "execute_result"
    }
   ],
   "source": [
    "import torch\n",
    "import torch.nn.functional as F\n",
    "from aviary.roost.model import DescriptorNetwork\n",
    "from pymatgen.core import Composition\n",
    "from torch import Tensor, LongTensor\n",
    "from data import collate_batch, comp2graph\n",
    "\n",
    "device = 'cuda'\n",
    "torch.set_default_device(device)\n",
    "\n",
    "\n",
    "\n",
    "elem_embed_dim = 112\n",
    "comp_embed_dim = 64\n",
    "\n",
    "batch = collate_batch([comp2graph(x) for x in df.sample(16)['pretty_formula_1']])\n",
    "print([tuple(x.shape) for x in batch])\n",
    "\n",
    "gnn = DescriptorNetwork(elem_emb_len=elem_embed_dim, elem_fea_len=64)\n",
    "\n",
    "out = gnn(*batch)\n",
    "\n",
    "print(out.shape)\n",
    "out"
   ]
  },
  {
   "cell_type": "code",
   "execution_count": 5,
   "metadata": {},
   "outputs": [],
   "source": [
    "benchmark = pd.read_csv('https://raw.githubusercontent.com/usccolumbia/cspbenchmark/main/data/CSPbenchmark_test_data.csv')\n",
    "benchmark_ids = benchmark['material_id']"
   ]
  },
  {
   "cell_type": "code",
   "execution_count": 6,
   "metadata": {},
   "outputs": [
    {
     "name": "stdout",
     "output_type": "stream",
     "text": [
      "(11933266, 8)\n",
      "(11833367, 8)\n",
      "(11833344, 8)\n"
     ]
    },
    {
     "name": "stderr",
     "output_type": "stream",
     "text": [
      "100%|██████████| 90/90 [00:35<00:00,  2.55it/s]\n"
     ]
    }
   ],
   "source": [
    "from pathlib import Path\n",
    "import torch\n",
    "from torch.utils.data import Dataset, DataLoader, random_split, IterableDataset\n",
    "from tqdm import tqdm, trange\n",
    "\n",
    "fn = 'ds-oh.pt'\n",
    "regen = False\n",
    "\n",
    "val_frac = 0.1\n",
    "test_frac = 0.5\n",
    "batch_size = 256\n",
    "shard_size = 256\n",
    "df_train = df.iloc[::1].query('dist > 0.01')\n",
    "print(df_train.shape)\n",
    "df_train = df_train.query('id_1 not in @benchmark_ids and id_2 not in @benchmark_ids')\n",
    "print(df_train.shape)\n",
    "df_train = df_train.iloc[:-(df_train.shape[0] % batch_size)]\n",
    "print(df_train.shape)\n",
    "\n",
    "\n",
    "class MyDataset(torch.utils.data.Dataset):\n",
    "    def __init__(self, X1, X2, y):\n",
    "        self.X1 = X1\n",
    "        self.X2 = X2\n",
    "        self.y = y\n",
    "    def __len__(self):\n",
    "        return len(self.X1)\n",
    "    def __getitem__(self, idx):\n",
    "        return self.X1[idx], self.X2[idx], self.y[idx]\n",
    "if regen:\n",
    "    X1 = []\n",
    "    X2 = []\n",
    "    y = []\n",
    "    for i in trange(0, len(df_train.index), batch_size):\n",
    "        df_batch = df_train.iloc[i:i+batch_size]\n",
    "        X1.append(collate_batch([comp2graph(x) for x in df_batch['pretty_formula_1']]))\n",
    "        X2.append(collate_batch([comp2graph(x) for x in df_batch['pretty_formula_2']]))\n",
    "        y.append(torch.tensor(df_batch['dist'].values))\n",
    "\n",
    "        if (i // batch_size + 1) % shard_size == 0:\n",
    "            ds = MyDataset(X1, X2, y)\n",
    "            torch.save(ds, Path('full_dataset') / f'{(i // batch_size +1) // shard_size}.pt')\n",
    "            X1 = []\n",
    "            X2 = []\n",
    "            y = []\n",
    "\n",
    "    ds = MyDataset(X1, X2, y)\n",
    "    torch.save(ds, Path('full_dataset') / '0.pt')\n",
    "else:\n",
    "    # ds = torch.load(fn, weights_only=False)\n",
    "    dses = []\n",
    "    shards = sorted(Path('full_dataset').glob('*.pt'))\n",
    "    train_len = int((1 - test_frac) * len(shards))    \n",
    "    train_shards = shards[:train_len]\n",
    "    test_shards = shards[train_len:]\n",
    "    for shard in tqdm(train_shards):\n",
    "        dses.append(torch.load(shard, weights_only=False))\n",
    "    \n",
    "    ds = torch.utils.data.ConcatDataset(dses)\n",
    "    \n",
    "\n",
    "train_ds, val_ds = random_split(ds, [1 - val_frac, val_frac], generator=torch.Generator(device=device).manual_seed(123))\n",
    "train_dl = DataLoader(train_ds, batch_size=None, shuffle=True, generator=torch.Generator(device=device))\n",
    "val_dl = DataLoader(val_ds, batch_size=None)\n",
    "val_X1, val_X2, val_y = next(iter(val_dl))"
   ]
  },
  {
   "cell_type": "code",
   "execution_count": 8,
   "metadata": {},
   "outputs": [],
   "source": [
    "lr = 1e-3\n",
    "num_epochs = 5\n",
    "tau = 1.0\n",
    "elem_embed_dim: int = 64\n",
    "comp_embed_dim: int = 64\n",
    "torch.set_float32_matmul_precision('high')"
   ]
  },
  {
   "cell_type": "code",
   "execution_count": null,
   "metadata": {},
   "outputs": [
    {
     "name": "stderr",
     "output_type": "stream",
     "text": [
      "Train: 0.128 Valid: 0.110:  20%|██        | 20642/103180 [07:57<18:47:29,  1.22it/s]"
     ]
    },
    {
     "name": "stdout",
     "output_type": "stream",
     "text": [
      "{'Epoch': '0.0000', 'Train Loss': '0.1277', 'Validation Loss': '0.1098'}\n"
     ]
    },
    {
     "name": "stderr",
     "output_type": "stream",
     "text": [
      "Train: 0.089 Valid: 0.082:  40%|████      | 41277/103180 [15:57<17:38:17,  1.03s/it]"
     ]
    },
    {
     "name": "stdout",
     "output_type": "stream",
     "text": [
      "{'Epoch': '1.0000', 'Train Loss': '0.0889', 'Validation Loss': '0.0817'}\n"
     ]
    },
    {
     "name": "stderr",
     "output_type": "stream",
     "text": [
      "Train: 0.101 Valid: 0.082:  43%|████▎     | 44257/103180 [17:21<21:56, 44.75it/s]   "
     ]
    }
   ],
   "source": [
    "from tqdm import trange\n",
    "from model import CompositionEmbedding\n",
    "\n",
    "\n",
    "hist = []\n",
    "model = CompositionEmbedding(elem_input_dim=112, elem_hidden_dim=elem_embed_dim, comp_embed_dim=comp_embed_dim, rescale_init=48, n_graph=1)\n",
    "model = torch.load('checkpoints/exp.pt', weights_only=False).to(device)\n",
    "# z1 = model.embed(val_X1)\n",
    "# z2 = model.embed(val_X2)\n",
    "# print(torch.linalg.vector_norm(z1 - z2, dim=1))\n",
    "\n",
    "# print(model.rescale)\n",
    "optimizer = torch.optim.AdamW(model.parameters(), lr=lr, weight_decay=1e-4)\n",
    "scheduler = torch.optim.lr_scheduler.PolynomialLR(optimizer, total_iters=num_epochs)\n",
    "\n",
    "with trange(num_epochs * len(train_dl)) as bar:\n",
    "    for epoch in range(num_epochs):\n",
    "        model.train()\n",
    "        loss_vals = []\n",
    "        for X1, X2, y in train_dl:\n",
    "            bar.update()            \n",
    "            loss_val = F.binary_cross_entropy(model(X1, X2), (y < tau).float())\n",
    "            loss_val.backward()\n",
    "            optimizer.step()\n",
    "            optimizer.zero_grad()\n",
    "            loss_vals.append(loss_val.detach().item())\n",
    "            if (bar.n + 1) % 100 == 0:\n",
    "                bar.set_description_str('Train: {:.3f} Valid: {:.3f}'.format(np.mean(loss_vals[-100:]),  hist[-1][\"Validation Loss\"] if hist else 0))\n",
    "        model.eval()\n",
    "        with torch.no_grad():\n",
    "            val_losses = []\n",
    "            for X1, X2, y in val_dl:\n",
    "                val_losses.append(F.binary_cross_entropy(model(X1, X2), (y < tau).float()))\n",
    "\n",
    "            val_losses = torch.tensor(val_losses)\n",
    "        hist.append({\n",
    "            'Epoch': epoch,\n",
    "            'Train Loss': sum(loss_vals) / len(loss_vals),\n",
    "            'Validation Loss': val_losses.mean().item()\n",
    "        })\n",
    "        torch.save(model, 'checkpoints/ckpt.pt')\n",
    "\n",
    "        print({k: f'{v:.4f}' for k, v in hist[-1].items()})\n",
    "\n",
    "        bar.set_description_str('Train: {:.3f} Valid: {:.3f}'.format(hist[-1][\"Train Loss\"], hist[-1][\"Validation Loss\"]))\n",
    "        scheduler.step()\n",
    "\n",
    "hist = pd.DataFrame(hist)\n",
    "\n",
    "sns.lineplot(hist, x='Epoch', y='Train Loss')\n",
    "sns.lineplot(hist, x='Epoch', y='Validation Loss')"
   ]
  },
  {
   "cell_type": "code",
   "execution_count": 18,
   "metadata": {},
   "outputs": [
    {
     "name": "stderr",
     "output_type": "stream",
     "text": [
      "/tmp/ipykernel_2912814/1033193543.py:1: FutureWarning: You are using `torch.load` with `weights_only=False` (the current default value), which uses the default pickle module implicitly. It is possible to construct malicious pickle data which will execute arbitrary code during unpickling (See https://github.com/pytorch/pytorch/blob/main/SECURITY.md#untrusted-models for more details). In a future release, the default value for `weights_only` will be flipped to `True`. This limits the functions that could be executed during unpickling. Arbitrary objects will no longer be allowed to be loaded via this mode unless they are explicitly allowlisted by the user via `torch.serialization.add_safe_globals`. We recommend you start setting `weights_only=True` for any use case where you don't have full control of the loaded file. Please open an issue on GitHub for any issues related to this experimental feature.\n",
      "  model = torch.load('checkpoints/exp2.pt')\n"
     ]
    }
   ],
   "source": [
    "model = torch.load('checkpoints/exp2.pt')"
   ]
  },
  {
   "cell_type": "code",
   "execution_count": 19,
   "metadata": {},
   "outputs": [],
   "source": [
    "ypred = []\n",
    "ytrue = []\n",
    "model.eval()\n",
    "with torch.no_grad():\n",
    "    for (X1, X2, y), _ in zip(val_dl, range(1000)):\n",
    "        ypred.append(model(X1, X2).detach().cpu())\n",
    "        ytrue.append(y.cpu())\n",
    "\n",
    "ypred = torch.cat(ypred)\n",
    "ytrue = torch.cat(ytrue) < tau"
   ]
  },
  {
   "cell_type": "code",
   "execution_count": 21,
   "metadata": {},
   "outputs": [
    {
     "name": "stdout",
     "output_type": "stream",
     "text": [
      "tensor(0.9680)\n",
      "tensor([[1.0000, 0.6571],\n",
      "        [0.6571, 1.0000]])\n"
     ]
    }
   ],
   "source": [
    "print(((ypred > 0.5) == ytrue).float().mean())\n",
    "print(torch.corrcoef(torch.vstack([ypred > 0.5, ytrue]).float()))"
   ]
  },
  {
   "cell_type": "code",
   "execution_count": 13,
   "metadata": {},
   "outputs": [
    {
     "data": {
      "text/plain": [
       "<seaborn.axisgrid.FacetGrid at 0x76cef6125b10>"
      ]
     },
     "execution_count": 13,
     "metadata": {},
     "output_type": "execute_result"
    },
    {
     "data": {
      "image/png": "[encoded data removed]",
      "text/plain": [
       "<Figure size 500x500 with 1 Axes>"
      ]
     },
     "metadata": {},
     "output_type": "display_data"
    }
   ],
   "source": [
    "sns.displot(ypred[::100].numpy(force=True))"
   ]
  },
  {
   "cell_type": "code",
   "execution_count": 14,
   "metadata": {},
   "outputs": [
    {
     "data": {
      "text/plain": [
       "<matplotlib.legend.Legend at 0x76c95e1f7fa0>"
      ]
     },
     "execution_count": 14,
     "metadata": {},
     "output_type": "execute_result"
    },
    {
     "data": {
      "image/png": "[encoded data removed]",
      "text/plain": [
       "<Figure size 800x600 with 1 Axes>"
      ]
     },
     "metadata": {},
     "output_type": "display_data"
    }
   ],
   "source": [
    "dists = torch.linalg.vector_norm(model.embed(X1) - model.embed(X2), dim=1).numpy(force=True)\n",
    "y_np = y.numpy(force=True) < tau\n",
    "\n",
    "sns.histplot(x=dists[y_np], label='y = 1', fill=False, element='step', bins=20)\n",
    "sns.histplot(x=dists[~y_np], label='y = 0', fill=False, element='step', bins=20)\n",
    "plt.legend()"
   ]
  },
  {
   "cell_type": "markdown",
   "metadata": {},
   "source": [
    "- train from CIF folder\n",
    "- oxidation state (BERTOS), make nodes"
   ]
  },
  {
   "cell_type": "code",
   "execution_count": null,
   "metadata": {},
   "outputs": [],
   "source": [
    "mp_id = 'mp-5615'\n",
    "\n",
    "df_id = df.query('id_1 == @mp_id')\n",
    "\n",
    "X1 = collate_batch([comp2graph(df_id['pretty_formula_1'].iloc[0])])\n",
    "\n",
    "x2s = df_id['pretty_formula_2']\n",
    "\n",
    "X2 = []\n",
    "for i in range(0, x2s.shape[0], batch_size):\n",
    "    X2.append(collate_batch([comp2graph(c) for c in x2s.iloc[i:i+batch_size]]))\n",
    "\n",
    "model.eval()\n",
    "z1 = model.embed(X1)\n",
    "z2 = torch.cat([model.embed(x) for x in X2])\n",
    "\n",
    "dists = torch.cdist(z1, z2)\n",
    "df_id['z_dist'] = dists.numpy(force=True).reshape(-1)"
   ]
  },
  {
   "cell_type": "code",
   "execution_count": null,
   "metadata": {},
   "outputs": [],
   "source": [
    "df_id.sort_values('z_dist')"
   ]
  },
  {
   "cell_type": "code",
   "execution_count": null,
   "metadata": {},
   "outputs": [],
   "source": []
  },
  {
   "cell_type": "code",
   "execution_count": null,
   "metadata": {},
   "outputs": [],
   "source": [
    "torch.save(model, 'checkpoints/exp-2.pt')"
   ]
  }
 ],
 "metadata": {
  "kernelspec": {
   "display_name": "baysic",
   "language": "python",
   "name": "python3"
  },
  "language_info": {
   "codemirror_mode": {
    "name": "ipython",
    "version": 3
   },
   "file_extension": ".py",
   "mimetype": "text/x-python",
   "name": "python",
   "nbconvert_exporter": "python",
   "pygments_lexer": "ipython3",
   "version": "3.10.13"
  }
 },
 "nbformat": 4,
 "nbformat_minor": 2
}
